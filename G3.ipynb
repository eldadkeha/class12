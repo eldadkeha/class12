{
 "cells": [
  {
   "cell_type": "code",
   "execution_count": 1,
   "id": "07647bc4-d013-4d0c-8813-5896907285e8",
   "metadata": {},
   "outputs": [
    {
     "data": {
      "application/vnd.jupyter.widget-view+json": {
       "model_id": "a9faf6c8109e4e52977e7497419b9831",
       "version_major": 2,
       "version_minor": 0
      },
      "text/plain": [
       "interactive(children=(IntSlider(value=1000, description='Number of Samples taken from the population', layout=…"
      ]
     },
     "metadata": {},
     "output_type": "display_data"
    }
   ],
   "source": [
    "# nbi:hide_in \n",
    "import pandas as pd\n",
    "import seaborn as sns\n",
    "import numpy as np\n",
    "import matplotlib.pyplot as plt\n",
    "from ipywidgets import interact, interactive, fixed, interact_manual, Layout\n",
    "import ipywidgets as widgets\n",
    "import random\n",
    "from random import choices\n",
    "from scipy import stats\n",
    "from IPython.display import HTML\n",
    "from scipy.stats import norm\n",
    "from termcolor import colored\n",
    "import math\n",
    "\n",
    "sns.set(font=\"serif\", style = \"white\")\n",
    "\n",
    "def ci (samplenum = 1000,samplesize = 500, std = 10):\n",
    "    meansample = []\n",
    "    loc = 3\n",
    "    s = np.random.normal(loc=loc, scale=std, size=100000)\n",
    "    for j in range(0,samplenum):\n",
    "        rc = random.choices(s, k=samplesize)\n",
    "        meansample.append(sum(rc)/len(rc))\n",
    "    plt.figure(figsize=(12,8))\n",
    "    plt.hist(meansample, bins = 50, density=True, color='lightcoral')\n",
    "    plt.xticks(fontsize = 24)\n",
    "    plt.xlim(0,6)\n",
    "    plt.ylim(0,1+samplesize/800)\n",
    "    plt.ylabel(\"Probability Density\", fontsize = 20)\n",
    "    plt.yticks(fontsize = 20)\n",
    "    plt.title(\"A Sampling Distribution of \" + str(samplenum) + \" Samples with \" + str(samplesize) + \" Observations Each\", color = \"firebrick\", fontsize = 18, y = 1.03, fontweight = \"bold\")\n",
    "    plt.scatter(1000,1000,color=\"brown\",label=\" Number Of Samples = \"+str(samplenum), linewidth = 10)\n",
    "    plt.scatter(1000,1000,color=\"darkorange\",label=\" Sample Size = \"+str(samplesize), linewidth = 10)\n",
    "    plt.plot([loc-(1.96*std/np.sqrt(samplesize)),loc-(1.96*std/np.sqrt(samplesize))],[0, 5],  lw=4, color='gold', linestyle='--')\n",
    "    plt.plot([loc+(1.96*std/np.sqrt(samplesize)),loc+(1.96*std/np.sqrt(samplesize))],[0, 5], lw=4, color='gold', linestyle='--')\n",
    "    plt.axvline(x=loc, color='brown', linestyle='-', linewidth = 4, label = \"Population Mean\");\n",
    "    plt.axvline(x=2000, color='gold', linestyle='--', linewidth = 4, label = \"Confidence interval of 95%\");\n",
    "    plt.legend(fontsize =16, loc = 2)\n",
    "    plt.show()\n",
    "\n",
    "style = {'description_width': 'initial'}    \n",
    "int_widget = interactive(ci,samplenum=widgets.IntSlider(value=1000,min=100,max=100000,step=100, description = \"Number of Samples taken from the population\",readout_format='d',style = style),\n",
    "                            samplesize=widgets.IntSlider(value=500,min=10,max=10000,step=10, description = \"Sample Size\",readout_format='d',style = style),\n",
    "                            std=widgets.FloatSlider(value=10,min=3,max=20,step=0.5, description = \"Standart deviation of the population\",readout_format='.1f',style = style))\n",
    "\n",
    "int_widget.children[0].layout = Layout(width='700px')\n",
    "int_widget.children[1].layout = Layout(width='700px')\n",
    "int_widget.children[2].layout = Layout(width='700px', font_size='24')\n",
    "int_widget.children[0].style.handle_color = 'firebrick'\n",
    "int_widget.children[1].style.handle_color = 'darkorange'\n",
    "int_widget.children[2].style.handle_color = 'lightcoral' \n",
    "\n",
    "display(int_widget)\n",
    "\n"
   ]
  },
  {
   "cell_type": "code",
   "execution_count": null,
   "id": "4ea11e5f-b8a3-4f5b-a317-0f9023c0894d",
   "metadata": {},
   "outputs": [],
   "source": []
  }
 ],
 "metadata": {
  "kernelspec": {
   "display_name": "Python 3 (ipykernel)",
   "language": "python",
   "name": "python3"
  },
  "language_info": {
   "codemirror_mode": {
    "name": "ipython",
    "version": 3
   },
   "file_extension": ".py",
   "mimetype": "text/x-python",
   "name": "python",
   "nbconvert_exporter": "python",
   "pygments_lexer": "ipython3",
   "version": "3.7.12"
  }
 },
 "nbformat": 4,
 "nbformat_minor": 5
}
