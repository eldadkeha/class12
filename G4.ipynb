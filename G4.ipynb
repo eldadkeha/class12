{
 "cells": [
  {
   "cell_type": "code",
   "execution_count": 1,
   "id": "c9c6719c-4993-47f0-bfe5-9235057e2e92",
   "metadata": {},
   "outputs": [
    {
     "data": {
      "application/vnd.jupyter.widget-view+json": {
       "model_id": "700282c0a28e4393bfe15ca82f238929",
       "version_major": 2,
       "version_minor": 0
      },
      "text/plain": [
       "interactive(children=(IntSlider(value=1000, description='Number of Samples taken from the population', layout=…"
      ]
     },
     "metadata": {},
     "output_type": "display_data"
    }
   ],
   "source": [
    "# nbi:hide_in \n",
    "import pandas as pd\n",
    "import seaborn as sns\n",
    "import numpy as np\n",
    "import matplotlib.pyplot as plt\n",
    "from ipywidgets import interact, interactive, fixed, interact_manual, Layout\n",
    "import ipywidgets as widgets\n",
    "import random\n",
    "from random import choices\n",
    "from scipy import stats\n",
    "from IPython.display import HTML\n",
    "from scipy.stats import norm\n",
    "import math\n",
    "    \n",
    "sns.set(font=\"serif\", style = \"white\")\n",
    "\n",
    "def ci(samplenum = 1000,samplesize = 500, std = 10, mean = 3):  \n",
    "      loc = 3\n",
    "      np.random.seed(24)\n",
    "      meansample = np.zeros(samplenum)\n",
    "      SampledFTN=np.random.normal(loc=loc, scale=std, size = 1000000)\n",
    "      for i in range(samplenum):\n",
    "          SampledFTN1= np.random.choice(SampledFTN, samplesize)\n",
    "          meansample[i]=np.mean(SampledFTN1)\n",
    "          #typeI = np.percentile(meanFTN,alpha*100)\n",
    "    \n",
    "    \n",
    "      \n",
    "      plt.figure(figsize=(12,8))\n",
    "      plt.hist(meansample, bins = 50, density=True, color='lightcoral')\n",
    "      plt.xticks(fontsize = 24)\n",
    "      plt.axvline(x=mean, color='pink', linestyle='-', linewidth = 4, label = \"Sample's mean\");    \n",
    "      plt.xlim(0,6)\n",
    "      plt.ylim(0,1+samplesize/800)\n",
    "      plt.ylabel(\"Probability Density\", fontsize = 20)\n",
    "      plt.yticks(fontsize = 20)\n",
    "      plt.title(\"A Sampling Distribution of \" + str(samplenum) + \" Samples with \" + str(samplesize) + \" Observations Each\", color = \"firebrick\", fontsize = 18, y = 1.03, fontweight = \"bold\")\n",
    "      plt.scatter(1000,1000,color=\"brown\",label=\" Number Of Samples = \"+str(samplenum), linewidth = 10)\n",
    "      plt.scatter(1000,1000,color=\"darkorange\",label=\" Sample Size = \"+str(samplesize), linewidth = 10)\n",
    "      plt.plot([loc-(1.96*std/np.sqrt(samplesize)),loc-(1.96*std/np.sqrt(samplesize))],[0, 20],  lw=4, color='gold', linestyle='--')\n",
    "      plt.plot([loc+(1.96*std/np.sqrt(samplesize)),loc+(1.96*std/np.sqrt(samplesize))],[0, 20], lw=4, color='gold', linestyle='--')\n",
    "      plt.axvline(x=loc, color='brown', linestyle='-', linewidth = 4, label = \"True Mean (Population)\");\n",
    "      y = np.arange(0, 30, 0.5)\n",
    "      x2 = mean-(1.96*std/np.sqrt(samplesize))\n",
    "      x1 = mean+(1.96*std/np.sqrt(samplesize))\n",
    "      plt.fill_betweenx(y, mean, x2, facecolor='lemonchiffon')\n",
    "      plt.fill_betweenx(y, mean, x1, facecolor='lemonchiffon', label= \"Interval of the samples mean\")\n",
    "      plt.axvline(x=2000, color='gold', linestyle='--', linewidth = 4, label = \"Confidence interval of 95%\");\n",
    "      plt.legend(fontsize =16, loc = 2)\n",
    "      plt.show()\n",
    "\n",
    "style = {'description_width': 'initial'}    \n",
    "int_widget = interactive(ci,samplenum=widgets.IntSlider(value=1000,min=100,max=100000,step=100, description = \"Number of Samples taken from the population\",readout_format='d',style = style),\n",
    "                            samplesize=widgets.IntSlider(value=500,min=10,max=10000,step=10, description = \"Sample Size\",readout_format='d',style = style),\n",
    "                            std=widgets.FloatSlider(value=10,min=3,max=20,step=0.5, description = \"Standart deviation of the population\",readout_format='.1f',style = style),\n",
    "                            mean=widgets.FloatSlider(value=2.5,min=1,max=6,step=0.1, description = \"Sample's Mean\",readout_format='.1f',style = style))\n",
    "\n",
    "int_widget.children[0].layout = Layout(width='700px')\n",
    "int_widget.children[1].layout = Layout(width='700px')\n",
    "int_widget.children[2].layout = Layout(width='700px', font_size='24')\n",
    "int_widget.children[3].layout = Layout(width='700px', font_size='24')\n",
    "\n",
    "int_widget.children[0].style.handle_color = 'firebrick'\n",
    "int_widget.children[1].style.handle_color = 'darkorange'\n",
    "int_widget.children[2].style.handle_color = 'lightcoral' \n",
    "int_widget.children[3].style.handle_color = 'pink' \n",
    "\n",
    "display(int_widget)\n",
    "\n",
    "\n"
   ]
  },
  {
   "cell_type": "code",
   "execution_count": null,
   "id": "7a8aeb89-bbb7-4f87-916d-6586f3c7e1bd",
   "metadata": {},
   "outputs": [],
   "source": []
  }
 ],
 "metadata": {
  "kernelspec": {
   "display_name": "Python 3 (ipykernel)",
   "language": "python",
   "name": "python3"
  },
  "language_info": {
   "codemirror_mode": {
    "name": "ipython",
    "version": 3
   },
   "file_extension": ".py",
   "mimetype": "text/x-python",
   "name": "python",
   "nbconvert_exporter": "python",
   "pygments_lexer": "ipython3",
   "version": "3.7.12"
  }
 },
 "nbformat": 4,
 "nbformat_minor": 5
}
