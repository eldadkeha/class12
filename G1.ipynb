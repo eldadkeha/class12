{
 "cells": [
  {
   "cell_type": "code",
   "execution_count": 1,
   "id": "03b22331-0dac-4d6d-91cf-f21c0cdfd76f",
   "metadata": {},
   "outputs": [
    {
     "data": {
      "application/vnd.jupyter.widget-view+json": {
       "model_id": "2cb410b1c5604406990439cf513c5c8c",
       "version_major": 2,
       "version_minor": 0
      },
      "text/plain": [
       "interactive(children=(Text(value='0', description='df'), Text(value='0', description='t_score'), Button(descri…"
      ]
     },
     "metadata": {},
     "output_type": "display_data"
    },
    {
     "data": {
      "text/html": [
       "<style>[data-mime-type=\"application/vnd.jupyter.stdout\"] pre { color:lightblue; font-size:24px}</style>"
      ],
      "text/plain": [
       "<IPython.core.display.HTML object>"
      ]
     },
     "metadata": {},
     "output_type": "display_data"
    }
   ],
   "source": [
    "\n",
    "# nbi:hide_in \n",
    "from ipywidgets import interact_manual\n",
    "from scipy import stats\n",
    "import matplotlib.pyplot as plt\n",
    "import numpy as np\n",
    "import warnings\n",
    "warnings.filterwarnings(\"ignore\")\n",
    "from IPython.display import HTML\n",
    "\n",
    "resolution = 1000\n",
    "\n",
    "def t_test(df, t_score):\n",
    "  df, t_score = int(df), float(t_score)\n",
    "  pval = stats.t.sf((t_score), df)\n",
    "  print(f\"t({df})\\t= {t_score}\\np-value\\t= {round(pval,5)}\")\n",
    "\n",
    "inter = interact_manual(t_test, df=\"0\", t_score=\"0\");\n",
    "inter.widget.children[2].description=\"Calculate P-Value\";\n",
    "inter.widget.children[2].style.button_color=\"lightblue\";\n",
    "inter.widget.children[2].style.font_weight = \"bold\" ;\n",
    "\n",
    "\n",
    "display(HTML('''<style>[data-mime-type=\"application/vnd.jupyter.stdout\"] pre { color:lightblue; font-size:24px}</style>'''))\n",
    "\n",
    "\n"
   ]
  },
  {
   "cell_type": "code",
   "execution_count": null,
   "id": "4b4d60ad-39eb-4463-b5a6-39e1059142d2",
   "metadata": {},
   "outputs": [],
   "source": []
  }
 ],
 "metadata": {
  "kernelspec": {
   "display_name": "Python 3 (ipykernel)",
   "language": "python",
   "name": "python3"
  },
  "language_info": {
   "codemirror_mode": {
    "name": "ipython",
    "version": 3
   },
   "file_extension": ".py",
   "mimetype": "text/x-python",
   "name": "python",
   "nbconvert_exporter": "python",
   "pygments_lexer": "ipython3",
   "version": "3.7.12"
  }
 },
 "nbformat": 4,
 "nbformat_minor": 5
}
